{
  "nbformat": 4,
  "nbformat_minor": 0,
  "metadata": {
    "colab": {
      "name": "Hello World.ipynb",
      "provenance": [],
      "authorship_tag": "ABX9TyPN2yjmQJvlkbh4NwMQJIWL",
      "include_colab_link": true
    },
    "kernelspec": {
      "name": "python3",
      "display_name": "Python 3"
    },
    "language_info": {
      "name": "python"
    }
  },
  "cells": [
    {
      "cell_type": "markdown",
      "metadata": {
        "id": "view-in-github",
        "colab_type": "text"
      },
      "source": [
        "<a href=\"https://colab.research.google.com/github/LightningNemesis/Introduction-to-TensorFlow-for-AI/blob/main/Hello_World.ipynb\" target=\"_parent\"><img src=\"https://colab.research.google.com/assets/colab-badge.svg\" alt=\"Open In Colab\"/></a>"
      ]
    },
    {
      "cell_type": "markdown",
      "metadata": {
        "id": "Cyn6nGnWQRJM"
      },
      "source": [
        "We wanted the computer to detect a pattern between a set of x and y values. Once the pattern was detected. Now, we wanted the computer to use this relation and predict the value for an unknown x.  \n",
        "\n",
        "The rule based code for the same would be:\n",
        "```\n",
        "float func(float x){\n",
        "  return y = 2x-1;\n",
        "}\n",
        "```\n",
        "\n",
        "We want to perform the equivalent process using a neural network, which has been implemented below"
      ]
    },
    {
      "cell_type": "markdown",
      "metadata": {
        "id": "93vjTnL7Skyx"
      },
      "source": [
        "### Keywords\n",
        "\n",
        "Neural networks -> Set of functions which can detect patterns.   \n",
        "Keras -> API in Tensorflow used to create neural networks.   \n",
        "keras.layers.Dense is used to define a layer of connected neurons.   \n",
        "Successive neurons are defined in sequence, hence keras.Sequential"
      ]
    },
    {
      "cell_type": "code",
      "metadata": {
        "id": "YQ4inC-JSUPa"
      },
      "source": [
        "import tensorflow as tf\n",
        "from tensorflow import keras\n",
        "import numpy as np"
      ],
      "execution_count": 9,
      "outputs": []
    },
    {
      "cell_type": "markdown",
      "metadata": {
        "id": "kwIqErFKS0qF"
      },
      "source": [
        "Next, creating the simplest possible neural network which has 1 layer, and in that layer, only 1 neuron. And the input_shape to it is just 1 value."
      ]
    },
    {
      "cell_type": "code",
      "metadata": {
        "id": "cp4KBCNBTH3A"
      },
      "source": [
        "model  = keras.Sequential([keras.layers.Dense(units = 1, input_shape=[1])])"
      ],
      "execution_count": 10,
      "outputs": []
    },
    {
      "cell_type": "markdown",
      "metadata": {
        "id": "INV9-u2XTKF5"
      },
      "source": [
        "## Compiling the Neural Network\n",
        "We now need to compile our neural network. For which, we need 2 functions: Loss & Optimizer.  \n",
        "\n",
        "Initially the neural network makes a guess and comes up with a relation like y = 10x-19, which is incorrect. The Loss function takes into account the difference between the expected output and predicted output.\n",
        "\n",
        "The Optimizer is responsible for reducing the loss for each training cycle. So the next time, the relation would be y=5x-5, which still has an error but is lower than the previous one.\n",
        "\n",
        "**The Loss function used here:**   \n",
        "Mean Squared Error (1/n)Σ(Yi - y^i)^2, average of the squared difference between the actual and predicted data    \n",
        "\n",
        "**The Optimizer used here:** Stochastic Gradient Descent "
      ]
    },
    {
      "cell_type": "code",
      "metadata": {
        "id": "xDmTT-2lVCEv"
      },
      "source": [
        "model.compile(optimizer='sgd', loss='mean_squared_error')"
      ],
      "execution_count": 11,
      "outputs": []
    },
    {
      "cell_type": "markdown",
      "metadata": {
        "id": "s2ba1hj5VLMM"
      },
      "source": [
        "## Providing the data\n",
        "\n",
        "We use numpy array to provide the x and y values to the model.   \n",
        "A python library called 'Numpy' provides lots of array type data structures that are a defacto standard way of doing it. We declare that we want to use these by specifying the values as an np.array[]"
      ]
    },
    {
      "cell_type": "code",
      "metadata": {
        "id": "C0hXCOGDVfxz"
      },
      "source": [
        "xs = np.array([-1.0, 0.0, 1.0, 2.0, 3.0, 4.0], dtype=float) # defining the input array of values (X)\n",
        "ys = np.array([-3.0, -1.0, 1.0, 3.0, 5.0, 7.0], dtype=float) # defining the output array of values (Y)"
      ],
      "execution_count": 12,
      "outputs": []
    },
    {
      "cell_type": "markdown",
      "metadata": {
        "id": "4UDGLbzgVhlf"
      },
      "source": [
        "## Training the model\n",
        "\n",
        "The process of training the neural network, where it 'learns' the relationship between  X and Y is performed using the model.fit call. This is where it will go through the loop we spoke about above, making a guess, measuring how good or bad it is (aka the loss), using the opimizer to make another guess etc. It will do it for the number of epochs you specify. When you run this code, you'll see the loss on the right hand side."
      ]
    },
    {
      "cell_type": "code",
      "metadata": {
        "id": "vmDzNLyKnHuu"
      },
      "source": [
        "model.fit(xs, ys, epochs=500)"
      ],
      "execution_count": null,
      "outputs": []
    },
    {
      "cell_type": "markdown",
      "metadata": {
        "id": "RXAgEqCtnKnP"
      },
      "source": [
        "Now we have the model trained using the dataset, we will calculate a predicted value of y for an unknown value of x. This is done using the *model.predict* call."
      ]
    },
    {
      "cell_type": "code",
      "metadata": {
        "colab": {
          "base_uri": "https://localhost:8080/"
        },
        "id": "R8JOjkKFCofy",
        "outputId": "cce17412-5361-4044-ad76-7b45719acff1"
      },
      "source": [
        "print(model.predict([5.0]))"
      ],
      "execution_count": 16,
      "outputs": [
        {
          "output_type": "stream",
          "text": [
            "[[8.995871]]\n"
          ],
          "name": "stdout"
        }
      ]
    },
    {
      "cell_type": "markdown",
      "metadata": {
        "id": "Kq_ZgjutnvqR"
      },
      "source": [
        "## Conclusion\n",
        "The value for an unknown x 10, should be 19 but it comes as a little less than that. This is due to 2 reasons:  \n",
        "1. We have a dataset comprising of only 6 values, which is small and not enough to train our neural network.\n",
        "2. The predicted value represents a probabilty and not an exact value. Neural networks deal with probabilities, so given the data that we fed the NN with, it calculated that there is a very high probability that the relationship between X and Y is Y=2X-1, but with only 6 data points we can't know for sure. As a result, the result for 10 is very close to 19, but not necessarily 19."
      ]
    }
  ]
}