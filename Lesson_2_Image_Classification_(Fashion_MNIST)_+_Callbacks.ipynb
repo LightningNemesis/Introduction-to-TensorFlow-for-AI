{
  "nbformat": 4,
  "nbformat_minor": 0,
  "metadata": {
    "colab": {
      "name": "Lesson 2 - Image Classification (Fashion MNIST) + Callbacks.ipynb",
      "private_outputs": true,
      "provenance": [],
      "collapsed_sections": [],
      "include_colab_link": true
    },
    "kernelspec": {
      "display_name": "Python 3",
      "language": "python",
      "name": "python3"
    },
    "language_info": {
      "codemirror_mode": {
        "name": "ipython",
        "version": 3
      },
      "file_extension": ".py",
      "mimetype": "text/x-python",
      "name": "python",
      "nbconvert_exporter": "python",
      "pygments_lexer": "ipython3",
      "version": "3.7.5rc1"
    }
  },
  "cells": [
    {
      "cell_type": "markdown",
      "metadata": {
        "id": "view-in-github",
        "colab_type": "text"
      },
      "source": [
        "<a href=\"https://colab.research.google.com/github/LightningNemesis/Introduction-to-TensorFlow-for-AI/blob/main/Lesson_2_Image_Classification_(Fashion_MNIST)_%2B_Callbacks.ipynb\" target=\"_parent\"><img src=\"https://colab.research.google.com/assets/colab-badge.svg\" alt=\"Open In Colab\"/></a>"
      ]
    },
    {
      "cell_type": "markdown",
      "metadata": {
        "id": "6tTiM_wLe_bp"
      },
      "source": [
        "## Classifying images into their respective categories, using fashion_mnist's dataset\n",
        "\n",
        "Also, we are using callbacks to stop the model's training when a certain level of accuracy is achieved"
      ]
    },
    {
      "cell_type": "code",
      "metadata": {
        "id": "mkNdTPzdWJqR"
      },
      "source": [
        "import tensorflow as tf\n",
        "import matplotlib.pyplot as plt"
      ],
      "execution_count": null,
      "outputs": []
    },
    {
      "cell_type": "markdown",
      "metadata": {
        "id": "9yGgobeWWm3f"
      },
      "source": [
        "Loading the data from fashion mnist"
      ]
    },
    {
      "cell_type": "code",
      "metadata": {
        "id": "O-D8QkvlWj5L"
      },
      "source": [
        "fashion_mnist = tf.keras.datasets.fashion_mnist"
      ],
      "execution_count": null,
      "outputs": []
    },
    {
      "cell_type": "markdown",
      "metadata": {
        "id": "eoPtvR3xXNkp"
      },
      "source": [
        "Splitting the dataset into 2 lists containing:  \n",
        "Training images & training labels (x_train, y_train) - For training the model\n",
        "Test images & test labels   \n",
        "(x_test, y_test) - For testing the model with unseen data"
      ]
    },
    {
      "cell_type": "code",
      "metadata": {
        "id": "rDgIJWD7Ws4j"
      },
      "source": [
        "(x_train, y_train), (x_test, y_test) = fashion_mnist.load_data()"
      ],
      "execution_count": null,
      "outputs": []
    },
    {
      "cell_type": "code",
      "metadata": {
        "id": "akc8Zs18h8at"
      },
      "source": [
        "print(x_train[0])\n",
        "plt.imshow(x_train[0])\n",
        "print('Output Label: ', end=\"\")\n",
        "print(y_train[0])"
      ],
      "execution_count": null,
      "outputs": []
    },
    {
      "cell_type": "markdown",
      "metadata": {
        "id": "4xnCwbNQXujL"
      },
      "source": [
        "Normalizing the training input & testing input data "
      ]
    },
    {
      "cell_type": "code",
      "metadata": {
        "id": "OUqOMdSWW7VF"
      },
      "source": [
        "x_train, x_test = x_train/255.0, x_test/255.0"
      ],
      "execution_count": null,
      "outputs": []
    },
    {
      "cell_type": "markdown",
      "metadata": {
        "id": "loUrPqjHYzQU"
      },
      "source": [
        "## Creating the Neural Network Model\n",
        "1. Flattening the input data from 28x28 to 784x1 (Since we are using only 1 layer of neurons to find the relationship between x & y)\n",
        "2. Creating the hidden layer of neurons (512) and using the **relu** activation function  \n",
        "i/p: [-2.098, -1.163, 0.224, 2.268]  \n",
        "o/p: [0, 0, 0.224, 2.268]   \n",
        "3. Creating the output layer of the NN, which has the same no. of neurons as the no. of classes out of which we have classify the input images   \n",
        "  *In our case, same as the no. of labels: 10*\n",
        "\n",
        "**Sequential**: That defines a SEQUENCE of layers in the neural network\n",
        "\n",
        "**Flatten**: Remember earlier where our images were a square, when you printed them out? Flatten just takes that square and turns it into a 1 dimensional set.\n",
        "\n",
        "**Dense**: Adds a layer of neurons\n",
        "\n",
        "Each layer of neurons need an **activation function** to tell them what to do. There's lots of options, but just use these for now. \n",
        "\n",
        "**Relu** effectively means \"If X>0 return X, else return 0\" -- so what it does it it only passes values 0 or greater to the next layer in the network.\n",
        "\n",
        "**Softmax** takes a set of values, and effectively picks the biggest one, so, for example, if the output of the last layer looks like [0.1, 0.1, 0.05, 0.1, 9.5, 0.1, 0.05, 0.05, 0.05], it saves you from fishing through it looking for the biggest value, and turns it into [0,0,0,0,1,0,0,0,0] -- The goal is to save a lot of coding!\n"
      ]
    },
    {
      "cell_type": "code",
      "metadata": {
        "id": "Bbv2h9CdXx_z"
      },
      "source": [
        "model = tf.keras.models.Sequential([\n",
        "                                    tf.keras.layers.Flatten(input_shape = (28,28)),\n",
        "                                    tf.keras.layers.Dense(512, activation=tf.nn.relu),                                    \n",
        "                                    tf.keras.layers.Dense(10, activation=tf.nn.softmax)\n",
        "                                    ])"
      ],
      "execution_count": null,
      "outputs": []
    },
    {
      "cell_type": "markdown",
      "metadata": {
        "id": "Aau1qANRdk7g"
      },
      "source": [
        "Compiling the NN model by passing the optimizers, loss functions, and metrics using which our callbacks will rely"
      ]
    },
    {
      "cell_type": "code",
      "metadata": {
        "id": "ncnpCT4jaR5v"
      },
      "source": [
        "model.compile(optimizer=tf.optimizers.Adam(),\n",
        "              loss='sparse_categorical_crossentropy',\n",
        "              metrics=['accuracy'])"
      ],
      "execution_count": null,
      "outputs": []
    },
    {
      "cell_type": "markdown",
      "metadata": {
        "id": "-SOgQ8O8dwd9"
      },
      "source": [
        "Creating the callback class that has a function **on_epoch_end()** which uses the value of accuracy for at the **end of every epoch**, while training the model. If condition is met (*>0.7*) stops the model training"
      ]
    },
    {
      "cell_type": "code",
      "metadata": {
        "id": "eAT6mKYma3lR"
      },
      "source": [
        "class myCallback(tf.keras.callbacks.Callback):\n",
        "  def on_epoch_end(self, epochs, logs={}):\n",
        "    if(logs.get('accuracy')>0.7):\n",
        "      print(\"Reached 70% accuracy while training model\")\n",
        "      self.model.stop_training = True\n"
      ],
      "execution_count": null,
      "outputs": []
    },
    {
      "cell_type": "markdown",
      "metadata": {
        "id": "GZG19X0FeF1E"
      },
      "source": [
        "Instantiating the callback class & training the NN model by calling the **fit()** function, *params: x, y, no. of epochs, callback*\n",
        "\n",
        "\n",
        "Asking the model to fit your training data to your training labels -- i.e. have it figure out the relationship between the training data and its actual labels, so in future if you have data that looks like the training data, then it can make a prediction for what that data would look like."
      ]
    },
    {
      "cell_type": "code",
      "metadata": {
        "id": "1Z2VFfVZapbc"
      },
      "source": [
        "callbacks = myCallback()\n",
        "model.fit(x_train, y_train, epochs=10, callbacks=[callbacks])"
      ],
      "execution_count": null,
      "outputs": []
    },
    {
      "cell_type": "code",
      "metadata": {
        "id": "b85OGsh-fZw0"
      },
      "source": [
        "model.evaluate(x_test, y_test)"
      ],
      "execution_count": null,
      "outputs": []
    },
    {
      "cell_type": "code",
      "metadata": {
        "id": "pW-MXH2XfeHm"
      },
      "source": [
        ""
      ],
      "execution_count": null,
      "outputs": []
    }
  ]
}